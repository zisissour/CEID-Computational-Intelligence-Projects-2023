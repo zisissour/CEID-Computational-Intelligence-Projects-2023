{
 "cells": [
  {
   "cell_type": "code",
   "execution_count": 10,
   "id": "8b15e004",
   "metadata": {},
   "outputs": [],
   "source": [
    "import random\n",
    "import pandas as pd\n",
    "import numpy as np\n",
    "from sklearn.preprocessing import StandardScaler\n",
    "from sklearn.preprocessing import MinMaxScaler\n",
    "from deap import base,creator, tools"
   ]
  },
  {
   "cell_type": "code",
   "execution_count": 2,
   "id": "6e9e401a",
   "metadata": {},
   "outputs": [],
   "source": [
    "dataset = pd.read_csv('dataset.csv', delimiter=';', low_memory='False')"
   ]
  },
  {
   "cell_type": "code",
   "execution_count": 3,
   "id": "17859526",
   "metadata": {},
   "outputs": [],
   "source": [
    "#Drop columns that are not needed\n",
    "dataset = dataset.drop(['user','gender','age','how_tall_in_meters','weight','body_mass_index'], axis=1)"
   ]
  },
  {
   "cell_type": "code",
   "execution_count": 6,
   "id": "50a71315",
   "metadata": {},
   "outputs": [],
   "source": [
    "\n",
    "#Centering\n",
    "scaler = StandardScaler(with_mean=True, with_std=False)\n",
    "dataset[['x1','y1','z1','x2','y2','z2','x3','y3','z3','x4','y4','z4']] = scaler.fit_transform(dataset[['x1','y1','z1','x2','y2','z2','x3','y3','z3','x4','y4','z4']])\n",
    "\n",
    "#MinMax Scaling\n",
    "scaler = MinMaxScaler();\n",
    "dataset[['x1','y1','z1','x2','y2','z2','x3','y3','z3','x4','y4','z4']] = scaler.fit_transform(dataset[['x1','y1','z1','x2','y2','z2','x3','y3','z3','x4','y4','z4']])\n",
    "\n"
   ]
  },
  {
   "cell_type": "code",
   "execution_count": 7,
   "id": "dd832d94",
   "metadata": {
    "scrolled": true
   },
   "outputs": [],
   "source": [
    "#Getting the means\n",
    "means = dataset.groupby('Class')[['x1','y1','z1','x2','y2','z2','x3','y3','z3','x4','y4','z4']].mean()"
   ]
  },
  {
   "cell_type": "code",
   "execution_count": 8,
   "id": "4dd63a72",
   "metadata": {},
   "outputs": [
    {
     "data": {
      "text/plain": [
       "x1    0.366705\n",
       "y1    0.419138\n",
       "z1    0.545830\n",
       "x2    0.449931\n",
       "y2    0.568754\n",
       "z2    0.716909\n",
       "x3    0.519283\n",
       "y3    0.581117\n",
       "z3    0.505974\n",
       "x4    0.827674\n",
       "y4    0.680005\n",
       "z4    0.759148\n",
       "Name: sitting, dtype: float64"
      ]
     },
     "execution_count": 8,
     "metadata": {},
     "output_type": "execute_result"
    }
   ],
   "source": [
    "#Separating means for the sitting state and the other states\n",
    "sitting_mean = means.T.pop('sitting').T\n",
    "states_means = means.T.drop('sitting', axis=1).T\n",
    "\n",
    "sitting_mean"
   ]
  },
  {
   "cell_type": "code",
   "execution_count": 9,
   "id": "716cfacd",
   "metadata": {},
   "outputs": [
    {
     "data": {
      "text/html": [
       "<div>\n",
       "<style scoped>\n",
       "    .dataframe tbody tr th:only-of-type {\n",
       "        vertical-align: middle;\n",
       "    }\n",
       "\n",
       "    .dataframe tbody tr th {\n",
       "        vertical-align: top;\n",
       "    }\n",
       "\n",
       "    .dataframe thead th {\n",
       "        text-align: right;\n",
       "    }\n",
       "</style>\n",
       "<table border=\"1\" class=\"dataframe\">\n",
       "  <thead>\n",
       "    <tr style=\"text-align: right;\">\n",
       "      <th></th>\n",
       "      <th>x1</th>\n",
       "      <th>y1</th>\n",
       "      <th>z1</th>\n",
       "      <th>x2</th>\n",
       "      <th>y2</th>\n",
       "      <th>z2</th>\n",
       "      <th>x3</th>\n",
       "      <th>y3</th>\n",
       "      <th>z3</th>\n",
       "      <th>x4</th>\n",
       "      <th>y4</th>\n",
       "      <th>z4</th>\n",
       "    </tr>\n",
       "    <tr>\n",
       "      <th>Class</th>\n",
       "      <th></th>\n",
       "      <th></th>\n",
       "      <th></th>\n",
       "      <th></th>\n",
       "      <th></th>\n",
       "      <th></th>\n",
       "      <th></th>\n",
       "      <th></th>\n",
       "      <th></th>\n",
       "      <th></th>\n",
       "      <th></th>\n",
       "      <th></th>\n",
       "    </tr>\n",
       "  </thead>\n",
       "  <tbody>\n",
       "    <tr>\n",
       "      <th>sittingdown</th>\n",
       "      <td>0.373142</td>\n",
       "      <td>0.457112</td>\n",
       "      <td>0.480843</td>\n",
       "      <td>0.414011</td>\n",
       "      <td>0.555831</td>\n",
       "      <td>0.608343</td>\n",
       "      <td>0.504431</td>\n",
       "      <td>0.598439</td>\n",
       "      <td>0.511138</td>\n",
       "      <td>0.753158</td>\n",
       "      <td>0.702511</td>\n",
       "      <td>0.801967</td>\n",
       "    </tr>\n",
       "    <tr>\n",
       "      <th>standing</th>\n",
       "      <td>0.367495</td>\n",
       "      <td>0.458642</td>\n",
       "      <td>0.489369</td>\n",
       "      <td>0.491653</td>\n",
       "      <td>0.702995</td>\n",
       "      <td>0.638789</td>\n",
       "      <td>0.518889</td>\n",
       "      <td>0.600316</td>\n",
       "      <td>0.513219</td>\n",
       "      <td>0.760258</td>\n",
       "      <td>0.720067</td>\n",
       "      <td>0.768590</td>\n",
       "    </tr>\n",
       "    <tr>\n",
       "      <th>standingup</th>\n",
       "      <td>0.368815</td>\n",
       "      <td>0.450662</td>\n",
       "      <td>0.476264</td>\n",
       "      <td>0.404896</td>\n",
       "      <td>0.544285</td>\n",
       "      <td>0.593578</td>\n",
       "      <td>0.488990</td>\n",
       "      <td>0.550286</td>\n",
       "      <td>0.496797</td>\n",
       "      <td>0.735012</td>\n",
       "      <td>0.708399</td>\n",
       "      <td>0.775540</td>\n",
       "    </tr>\n",
       "    <tr>\n",
       "      <th>walking</th>\n",
       "      <td>0.365761</td>\n",
       "      <td>0.462549</td>\n",
       "      <td>0.480816</td>\n",
       "      <td>0.312931</td>\n",
       "      <td>0.447328</td>\n",
       "      <td>0.413280</td>\n",
       "      <td>0.509756</td>\n",
       "      <td>0.624089</td>\n",
       "      <td>0.504906</td>\n",
       "      <td>0.749150</td>\n",
       "      <td>0.729366</td>\n",
       "      <td>0.750483</td>\n",
       "    </tr>\n",
       "  </tbody>\n",
       "</table>\n",
       "</div>"
      ],
      "text/plain": [
       "                   x1        y1        z1        x2        y2        z2   \n",
       "Class                                                                     \n",
       "sittingdown  0.373142  0.457112  0.480843  0.414011  0.555831  0.608343  \\\n",
       "standing     0.367495  0.458642  0.489369  0.491653  0.702995  0.638789   \n",
       "standingup   0.368815  0.450662  0.476264  0.404896  0.544285  0.593578   \n",
       "walking      0.365761  0.462549  0.480816  0.312931  0.447328  0.413280   \n",
       "\n",
       "                   x3        y3        z3        x4        y4        z4  \n",
       "Class                                                                    \n",
       "sittingdown  0.504431  0.598439  0.511138  0.753158  0.702511  0.801967  \n",
       "standing     0.518889  0.600316  0.513219  0.760258  0.720067  0.768590  \n",
       "standingup   0.488990  0.550286  0.496797  0.735012  0.708399  0.775540  \n",
       "walking      0.509756  0.624089  0.504906  0.749150  0.729366  0.750483  "
      ]
     },
     "execution_count": 9,
     "metadata": {},
     "output_type": "execute_result"
    }
   ],
   "source": [
    "states_means"
   ]
  },
  {
   "cell_type": "code",
   "execution_count": null,
   "id": "0612aa80",
   "metadata": {},
   "outputs": [],
   "source": []
  }
 ],
 "metadata": {
  "kernelspec": {
   "display_name": "venv",
   "language": "python",
   "name": "venv"
  },
  "language_info": {
   "codemirror_mode": {
    "name": "ipython",
    "version": 3
   },
   "file_extension": ".py",
   "mimetype": "text/x-python",
   "name": "python",
   "nbconvert_exporter": "python",
   "pygments_lexer": "ipython3",
   "version": "3.10.11"
  }
 },
 "nbformat": 4,
 "nbformat_minor": 5
}
